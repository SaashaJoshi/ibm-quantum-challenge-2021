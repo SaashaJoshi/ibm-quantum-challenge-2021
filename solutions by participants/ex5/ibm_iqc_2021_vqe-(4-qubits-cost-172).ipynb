{
 "cells": [
  {
   "cell_type": "markdown",
   "id": "completed-china",
   "metadata": {},
   "source": [
    "## Driver"
   ]
  },
  {
   "cell_type": "code",
   "execution_count": 3,
   "id": "vertical-watershed",
   "metadata": {},
   "outputs": [],
   "source": [
    "from qiskit_nature.drivers import PySCFDriver\n",
    "from qiskit_nature.drivers.qmolecule import QMolecule\n",
    "\n",
    "# molecule = \"H .0 .0 .0; H .0 .0 0.739\"\n",
    "molecule = 'Li 0.0 0.0 0.0; H 0.0 0.0 1.5474'\n",
    "driver = PySCFDriver(atom = molecule)\n",
    "qmolecule = driver.run()"
   ]
  },
  {
   "cell_type": "markdown",
   "id": "impressive-apache",
   "metadata": {},
   "source": [
    "## Electronic Structure and Freeze Core Qubits and Remove Orbitals"
   ]
  },
  {
   "cell_type": "code",
   "execution_count": 4,
   "id": "employed-round",
   "metadata": {},
   "outputs": [],
   "source": [
    "from qiskit_nature.problems.second_quantization.electronic import ElectronicStructureProblem\n",
    "from qiskit_nature.transformers import FreezeCoreTransformer\n",
    "\n",
    "problem = ElectronicStructureProblem(driver, q_molecule_transformers = [FreezeCoreTransformer(freeze_core = True, remove_orbitals = [3, 4])])\n",
    "# same for remove_orbitals = [4]\n",
    "\n",
    "second_quantized_operator = problem.second_q_ops()\n",
    "\n",
    "# Main Operator = Hamiltonian\n",
    "main_operator = second_quantized_operator[0]\n",
    "\n",
    "# print(main_operator)"
   ]
  },
  {
   "cell_type": "code",
   "execution_count": 95,
   "id": "helpful-junction",
   "metadata": {},
   "outputs": [],
   "source": [
    "# data = problem.molecule_data_transformed\n",
    "# print(data)"
   ]
  },
  {
   "cell_type": "markdown",
   "id": "coated-enhancement",
   "metadata": {},
   "source": [
    "## Qubit Converter (Mapping) and Z2Symmetry Reduction"
   ]
  },
  {
   "cell_type": "code",
   "execution_count": 5,
   "id": "hundred-puppy",
   "metadata": {},
   "outputs": [],
   "source": [
    "from qiskit_nature.mappers.second_quantization import ParityMapper, JordanWignerMapper, BravyiKitaevMapper\n",
    "from qiskit_nature.converters.second_quantization.qubit_converter import QubitConverter\n",
    "\n",
    "# mapping = \"JordanWignerMapper\"\n",
    "mapping = \"ParityMapper\"\n",
    "# mapping = \"BravyiKitaevMapper\"\n",
    "\n",
    "if mapping == \"ParityMapper\":\n",
    "    mapping = ParityMapper()\n",
    "elif mapping == \"JordanWignerMapper\":\n",
    "    mapping = JordanWignerMapper()\n",
    "elif mapping == \"BravyiKitaevMapper\":\n",
    "    mapping = BravyiKitaevMapper()\n",
    "    \n",
    "\n",
    "\n",
    "\n",
    "# converter = QubitConverter(mapper = mapping, two_qubit_reduction = False)\n",
    "# converter = QubitConverter(mapper = mapping, two_qubit_reduction = True, z2symmetry_reduction = [1, 1, 1, 1])\n",
    "converter = QubitConverter(mapper = mapping, two_qubit_reduction = True, z2symmetry_reduction = [1])\n",
    "\n",
    "# Possible Z2Symmetries \n",
    "\n",
    "# [1, 1, 1, 1], [1, 1, 1, -1], [1, 1, -1, 1], \n",
    "# [1, 1, -1, -1], [1, -1, 1, 1], [1, -1, 1, -1], \n",
    "# [1, -1, -1, 1], [1, -1, -1, -1], [-1, 1, 1, 1], [-1, 1, 1, -1], \n",
    "# [-1, 1, -1, 1], [-1, 1, -1, -1], [-1, -1, 1, 1], [-1, -1, 1, -1], \n",
    "# [-1, -1, -1, 1], [-1, -1, -1, -1]"
   ]
  },
  {
   "cell_type": "code",
   "execution_count": 97,
   "id": "ranging-chinese",
   "metadata": {},
   "outputs": [],
   "source": [
    "# print(converter.z2symmetry_reduction)\n",
    "# print(converter.two_qubit_reduction)\n",
    "# print(converter.z2symmetries)"
   ]
  },
  {
   "cell_type": "code",
   "execution_count": 6,
   "id": "electronic-wages",
   "metadata": {},
   "outputs": [
    {
     "name": "stdout",
     "output_type": "stream",
     "text": [
      "(1, 1)\n"
     ]
    }
   ],
   "source": [
    "# Mapping fermionic operators to qubit operators\n",
    "num_particles = (problem.molecule_data_transformed.num_alpha, problem.molecule_data_transformed.num_beta)\n",
    "\n",
    "print(num_particles)"
   ]
  },
  {
   "cell_type": "code",
   "execution_count": 7,
   "id": "acute-finnish",
   "metadata": {},
   "outputs": [],
   "source": [
    "qubit_operator = converter.convert(main_operator, num_particles = num_particles)\n",
    "# print(qubit_operator)"
   ]
  },
  {
   "cell_type": "markdown",
   "id": "distant-defense",
   "metadata": {},
   "source": [
    "## Z2Symmetries and Remove Orbitals"
   ]
  },
  {
   "cell_type": "code",
   "execution_count": 65,
   "id": "forbidden-presence",
   "metadata": {},
   "outputs": [
    {
     "name": "stdout",
     "output_type": "stream",
     "text": [
      "Z2 symmetries:\n",
      "Symmetries:\n",
      "IIIIZIII\n",
      "IIZZIIZZ\n",
      "IZIIIZII\n",
      "ZIIIIIII\n",
      "Single-Qubit Pauli X:\n",
      "IIIIXIII\n",
      "IIIIIIIX\n",
      "IIIIIXII\n",
      "XIIIIIII\n",
      "Cliffords:\n",
      "0.7071067811865475 * IIIIZIII\n",
      "+ 0.7071067811865475 * IIIIXIII\n",
      "0.7071067811865475 * IIZZIIZZ\n",
      "+ 0.7071067811865475 * IIIIIIIX\n",
      "0.7071067811865475 * IZIIIZII\n",
      "+ 0.7071067811865475 * IIIIIXII\n",
      "0.7071067811865475 * ZIIIIIII\n",
      "+ 0.7071067811865475 * XIIIIIII\n",
      "Qubit index:\n",
      "[3, 0, 2, 7]\n",
      "Tapering values:\n",
      "  - Possible values: [1, 1, 1, 1], [1, 1, 1, -1], [1, 1, -1, 1], [1, 1, -1, -1], [1, -1, 1, 1], [1, -1, 1, -1], [1, -1, -1, 1], [1, -1, -1, -1], [-1, 1, 1, 1], [-1, 1, 1, -1], [-1, 1, -1, 1], [-1, 1, -1, -1], [-1, -1, 1, 1], [-1, -1, 1, -1], [-1, -1, -1, 1], [-1, -1, -1, -1]\n"
     ]
    }
   ],
   "source": [
    "from qiskit.opflow.primitive_ops import Z2Symmetries\n",
    "\n",
    "sym = Z2Symmetries.find_Z2_symmetries(qubit_operator)\n",
    "print(sym)"
   ]
  },
  {
   "cell_type": "code",
   "execution_count": 100,
   "id": "english-implementation",
   "metadata": {},
   "outputs": [],
   "source": [
    "# remove_ob = FreezeCoreTransformer.transform(True, molecule_data = qubit_operator)\n",
    "# print(remove_ob)"
   ]
  },
  {
   "cell_type": "code",
   "execution_count": 66,
   "id": "secondary-alignment",
   "metadata": {},
   "outputs": [
    {
     "name": "stdout",
     "output_type": "stream",
     "text": [
      "<property object at 0x7efd5711a950>\n"
     ]
    }
   ],
   "source": [
    "from qiskit.opflow.primitive_ops import Z2Symmetries\n",
    "\n",
    "# sym = Z2Symmetries.find_Z2_symmetries(qubit_operator)\n",
    "sym = Z2Symmetries.symmetries\n",
    "print(sym)"
   ]
  },
  {
   "cell_type": "markdown",
   "id": "straight-adelaide",
   "metadata": {},
   "source": [
    "## Initial State (Hartree Fock)"
   ]
  },
  {
   "cell_type": "code",
   "execution_count": 8,
   "id": "administrative-cowboy",
   "metadata": {},
   "outputs": [
    {
     "name": "stdout",
     "output_type": "stream",
     "text": [
      "6\n",
      "     ┌───┐\n",
      "q_0: ┤ X ├\n",
      "     ├───┤\n",
      "q_1: ┤ X ├\n",
      "     └───┘\n",
      "q_2: ─────\n",
      "          \n",
      "q_3: ─────\n",
      "          \n"
     ]
    }
   ],
   "source": [
    "from qiskit_nature.circuit.library import HartreeFock\n",
    "\n",
    "num_particles = (problem.molecule_data_transformed.num_alpha, problem.molecule_data_transformed.num_beta)\n",
    "\n",
    "num_spin_orbitals = 2 * problem.molecule_data_transformed.num_molecular_orbitals\n",
    "print(num_spin_orbitals)\n",
    "\n",
    "initial_state = HartreeFock(num_spin_orbitals, num_particles, converter)\n",
    "print(initial_state)"
   ]
  },
  {
   "cell_type": "markdown",
   "id": "insured-observer",
   "metadata": {},
   "source": [
    "## Ansatz"
   ]
  },
  {
   "cell_type": "code",
   "execution_count": 80,
   "id": "distinct-perry",
   "metadata": {},
   "outputs": [],
   "source": [
    "from qiskit.circuit.library import TwoLocal\n",
    "from qiskit_nature.circuit.library import UCCSD, PUCCD, SUCCD\n",
    "\n",
    "# Available Ansatz\n",
    "\n",
    "# ansatz = \"TwoLocal\"\n",
    "ansatz = \"UCCSD\"\n",
    "  \n",
    "if ansatz == \"UCCSD\":\n",
    "    ansatz = UCCSD(qubit_converter = converter, \n",
    "                   num_particles = num_particles, \n",
    "                   num_spin_orbitals = num_spin_orbitals, \n",
    "                   initial_state = initial_state)\n",
    "elif ansatz == \"PUCCD\":\n",
    "    ansatz = PUCCD(qubit_converter = converter, \n",
    "                   num_particles = num_particles, \n",
    "                   num_spin_orbitals = num_spin_orbitals, \n",
    "                   initial_state = initial_state)\n",
    "elif ansatz == \"SUCCD\":\n",
    "    ansatz = SUCCD(qubit_converter = converter, \n",
    "                   num_particles = num_particles, \n",
    "                   num_spin_orbitals = num_spin_orbitals, \n",
    "                   initial_state = initial_state)\n",
    "\n",
    "elif ansatz == \"TwoLocal\":\n",
    "    # Ansatz Parameters\n",
    "    # Single qubit rotations\n",
    "    rotation_blocks = ['ry', 'rz']\n",
    "    \n",
    "    # Entanglement gates\n",
    "    entanglement_blocks = 'cx'\n",
    "    \n",
    "    # Type of entanglement\n",
    "    entanglement = \"full\"    # or \"linear\"\n",
    "    \n",
    "    # Repitition of ansatz\n",
    "    repititions = 6    # arbitrary number\n",
    "    \n",
    "    # Skip final rotation layer\n",
    "    skip_final_rotation_layer = True\n",
    "    \n",
    "    # Ansatz\n",
    "    ansatz = TwoLocal(num_qubits = qubit_operator.num_qubits, \n",
    "                      rotation_blocks = rotation_blocks, \n",
    "                      entanglement_blocks = entanglement_blocks, \n",
    "                      entanglement = entanglement, \n",
    "                      reps = repititions, \n",
    "                      skip_final_rotation_layer = skip_final_rotation_layer)\n",
    "    \n",
    "    ansatz.compose(initial_state, front = True, inplace = True)\n",
    "\n",
    "# elif ansatz == \"Custom\":\n",
    "#     # Add custom ansatz"
   ]
  },
  {
   "cell_type": "markdown",
   "id": "quarterly-salad",
   "metadata": {},
   "source": [
    "## Backend"
   ]
  },
  {
   "cell_type": "code",
   "execution_count": 81,
   "id": "related-brunswick",
   "metadata": {},
   "outputs": [],
   "source": [
    "from qiskit import Aer\n",
    "backend = Aer.get_backend('statevector_simulator')"
   ]
  },
  {
   "cell_type": "markdown",
   "id": "loved-thread",
   "metadata": {},
   "source": [
    "## Optimizer"
   ]
  },
  {
   "cell_type": "code",
   "execution_count": 82,
   "id": "iraqi-constraint",
   "metadata": {},
   "outputs": [],
   "source": [
    "from qiskit.algorithms.optimizers import COBYLA, L_BFGS_B, SPSA, SLSQP\n",
    "\n",
    "optimizer = \"COBYLA\"\n",
    "\n",
    "if optimizer == \"COBYLA\":\n",
    "    optimizer = COBYLA(maxiter = 500)\n",
    "elif optimizer == \"L_BFGS_B\":\n",
    "    optimizer = L_BFGS_B(maxiter = 500)\n",
    "elif optimizer == \"SPSA\":\n",
    "    optimizer = SPSA(maxiter = 500)\n",
    "elif optimizer == \"SLSQP\":\n",
    "    optimizer = SLSQP(maxiter = 500)"
   ]
  },
  {
   "cell_type": "markdown",
   "id": "harmful-enhancement",
   "metadata": {},
   "source": [
    "## VQE and Inital Parameters of Ansatz"
   ]
  },
  {
   "cell_type": "code",
   "execution_count": 83,
   "id": "interpreted-center",
   "metadata": {},
   "outputs": [
    {
     "name": "stdout",
     "output_type": "stream",
     "text": [
      "{   'aux_operator_eigenvalues': None,\n",
      "    'cost_function_evals': 50,\n",
      "    'eigenstate': array([ 5.91762316e-17+1.48939653e-17j,  2.78485212e-17+5.70741527e-17j,\n",
      "        2.24812922e-16-1.26677548e-16j,  9.93195727e-01-1.40409528e-16j,\n",
      "       -2.66387178e-19+2.71603126e-17j,  2.43882596e-17+7.02606815e-18j,\n",
      "       -1.16702301e-02+6.46796850e-17j, -2.62809101e-16-1.78890544e-16j,\n",
      "        2.82921619e-17+1.22663473e-17j,  7.17699910e-17+6.68846041e-17j,\n",
      "       -1.17624440e-16+1.77933793e-16j, -2.23390020e-16-2.17131450e-17j,\n",
      "       -2.98024049e-18-3.92864974e-18j, -3.11228916e-17-1.84250537e-17j,\n",
      "       -3.06668730e-02+9.57778558e-17j, -7.17699910e-17-4.97875644e-18j,\n",
      "        3.24877661e-17+1.90917598e-17j,  6.43696931e-17-5.88784672e-17j,\n",
      "       -2.27002209e-17+2.09580191e-17j,  8.46298471e-17-8.95410157e-17j,\n",
      "       -1.73038855e-17+2.62274499e-17j, -2.22537737e-17-2.77555756e-17j,\n",
      "        6.37311415e-18-2.35691981e-17j,  6.57962091e-18+1.14967359e-17j,\n",
      "        1.82273520e-17-6.87863180e-17j,  6.35023314e-17-1.96261557e-17j,\n",
      "        3.44391421e-18-3.22592544e-17j, -7.50862415e-18+2.13930812e-32j,\n",
      "       -1.11738966e-01+7.59834956e-18j,  3.82750800e-17+1.14967359e-17j,\n",
      "        5.08243218e-17-1.16565856e-17j, -7.57176132e-17+6.70078871e-17j]),\n",
      "    'eigenvalue': -1.085124037663538,\n",
      "    'optimal_parameters': {   ParameterVectorElement(t[1]): -0.03067377141042372,\n",
      "                              ParameterVectorElement(t[2]): -0.11203338323025228,\n",
      "                              ParameterVectorElement(t[0]): -0.011670495036400568},\n",
      "    'optimal_point': array([-0.0116705 , -0.03067377, -0.11203338]),\n",
      "    'optimal_value': -1.085124037663538,\n",
      "    'optimizer_evals': 50,\n",
      "    'optimizer_time': 0.42438600600007703}\n"
     ]
    }
   ],
   "source": [
    "from qiskit.algorithms import VQE\n",
    "from IPython.display import display, clear_output\n",
    "\n",
    "# Initial Parameters of Ansatz\n",
    "try:\n",
    "    initial_point = [0.01] * len(ansatz.ordered_parameters)\n",
    "except:\n",
    "    initial_point = [0.01] * ansatz.num_parameters\n",
    "    \n",
    "algorithm = VQE(ansatz = ansatz, \n",
    "                optimizer = optimizer, \n",
    "                initial_point = initial_point, \n",
    "                quantum_instance = backend)\n",
    "#                 callback = callback)\n",
    "\n",
    "result = algorithm.compute_minimum_eigenvalue(qubit_operator)\n",
    "print(result)"
   ]
  },
  {
   "cell_type": "code",
   "execution_count": null,
   "id": "postal-bowling",
   "metadata": {},
   "outputs": [],
   "source": [
    "# from qiskit.algorithms import VQE\n",
    "# from qiskit.chemistry.algorithms import VQEAdapt\n",
    "# from IPython.display import display, clear_output\n",
    "\n",
    "# # Initial Parameters of Ansatz\n",
    "# try:\n",
    "#     initial_point = [0.01] * len(ansatz.ordered_parameters)\n",
    "# except:\n",
    "#     initial_point = [0.01] * ansatz.num_parameters\n",
    "    \n",
    "# # algorithm = VQE(ansatz = ansatz, \n",
    "# #                 optimizer = optimizer, \n",
    "# #                 initial_point = initial_point, \n",
    "# #                 quantum_instance = backend)\n",
    "# # #                 callback = callback)\n",
    "\n",
    "# algorithm = VQEAdapt(qubit_operator, \n",
    "#                      var_form_base = ansatz, \n",
    "#                      optimizer = optimizer, \n",
    "#                      initial_point = initial_point, \n",
    "#                      quantum_instance = backend)\n",
    "# #                 callback = callback)\n",
    "\n",
    "# result = algorithm.compute_minimum_eigenvalue(qubit_operator)\n",
    "# print(result)"
   ]
  },
  {
   "cell_type": "markdown",
   "id": "therapeutic-mining",
   "metadata": {},
   "source": [
    "## Exact Energy"
   ]
  },
  {
   "cell_type": "code",
   "execution_count": 29,
   "id": "prescription-content",
   "metadata": {},
   "outputs": [
    {
     "name": "stdout",
     "output_type": "stream",
     "text": [
      "Exact electronic energy -1.0856642363219928\n"
     ]
    }
   ],
   "source": [
    "from qiskit_nature.algorithms.ground_state_solvers.minimum_eigensolver_factories import NumPyMinimumEigensolverFactory\n",
    "from qiskit_nature.algorithms.ground_state_solvers import GroundStateEigensolver\n",
    "import numpy as np \n",
    "\n",
    "def exact_diagonalizer(problem, converter):\n",
    "    solver = NumPyMinimumEigensolverFactory()\n",
    "    calc = GroundStateEigensolver(converter, solver)\n",
    "    result = calc.solve(problem)\n",
    "    return result\n",
    "\n",
    "result_exact = exact_diagonalizer(problem, converter)\n",
    "exact_energy = np.real(result_exact.eigenenergies[0])\n",
    "print(\"Exact electronic energy\", exact_energy)\n",
    "# print(result_exact)"
   ]
  },
  {
   "cell_type": "code",
   "execution_count": null,
   "id": "fantastic-turner",
   "metadata": {},
   "outputs": [],
   "source": []
  }
 ],
 "metadata": {
  "kernelspec": {
   "display_name": "Python 3",
   "language": "python",
   "name": "python3"
  },
  "language_info": {
   "codemirror_mode": {
    "name": "ipython",
    "version": 3
   },
   "file_extension": ".py",
   "mimetype": "text/x-python",
   "name": "python",
   "nbconvert_exporter": "python",
   "pygments_lexer": "ipython3",
   "version": "3.9.1"
  }
 },
 "nbformat": 4,
 "nbformat_minor": 5
}
