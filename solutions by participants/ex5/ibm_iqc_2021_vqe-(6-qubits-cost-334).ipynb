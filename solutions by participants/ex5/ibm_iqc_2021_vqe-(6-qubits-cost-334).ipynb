{
 "cells": [
  {
   "cell_type": "markdown",
   "id": "completed-china",
   "metadata": {},
   "source": [
    "## Driver"
   ]
  },
  {
   "cell_type": "code",
   "execution_count": 1,
   "id": "vertical-watershed",
   "metadata": {},
   "outputs": [],
   "source": [
    "from qiskit_nature.drivers import PySCFDriver\n",
    "from qiskit_nature.drivers.qmolecule import QMolecule\n",
    "\n",
    "# molecule = \"H .0 .0 .0; H .0 .0 0.739\"\n",
    "molecule = 'Li 0.0 0.0 0.0; H 0.0 0.0 1.5474'\n",
    "driver = PySCFDriver(atom = molecule)\n",
    "qmolecule = driver.run()"
   ]
  },
  {
   "cell_type": "markdown",
   "id": "impressive-apache",
   "metadata": {},
   "source": [
    "## Electronic Structure and Freeze Core Qubits and Remove Orbitals"
   ]
  },
  {
   "cell_type": "code",
   "execution_count": 8,
   "id": "employed-round",
   "metadata": {},
   "outputs": [],
   "source": [
    "from qiskit_nature.problems.second_quantization.electronic import ElectronicStructureProblem\n",
    "from qiskit_nature.transformers import FreezeCoreTransformer\n",
    "\n",
    "problem = ElectronicStructureProblem(driver, q_molecule_transformers = [FreezeCoreTransformer(freeze_core = True)])\n",
    "\n",
    "second_quantized_operator = problem.second_q_ops()\n",
    "\n",
    "# Main Operator = Hamiltonian\n",
    "main_operator = second_quantized_operator[0]\n",
    "\n",
    "# print(main_operator)"
   ]
  },
  {
   "cell_type": "code",
   "execution_count": 9,
   "id": "minus-twelve",
   "metadata": {},
   "outputs": [],
   "source": [
    "# data = problem.molecule_data_transformed\n",
    "# print(data)"
   ]
  },
  {
   "cell_type": "markdown",
   "id": "coated-enhancement",
   "metadata": {},
   "source": [
    "## Qubit Converter (Mapping) and Z2Symmetry Reduction"
   ]
  },
  {
   "cell_type": "code",
   "execution_count": 10,
   "id": "hundred-puppy",
   "metadata": {},
   "outputs": [],
   "source": [
    "from qiskit_nature.mappers.second_quantization import ParityMapper, JordanWignerMapper, BravyiKitaevMapper\n",
    "from qiskit_nature.converters.second_quantization.qubit_converter import QubitConverter\n",
    "\n",
    "# mapping = \"JordanWignerMapper\"\n",
    "mapping = \"ParityMapper\"\n",
    "# mapping = \"BravyiKitaevMapper\"\n",
    "\n",
    "if mapping == \"ParityMapper\":\n",
    "    mapping = ParityMapper()\n",
    "elif mapping == \"JordanWignerMapper\":\n",
    "    mapping = JordanWignerMapper()\n",
    "elif mapping == \"BravyiKitaevMapper\":\n",
    "    mapping = BravyiKitaevMapper()\n",
    "    \n",
    "\n",
    "\n",
    "\n",
    "# converter = QubitConverter(mapper = mapping, two_qubit_reduction = False)\n",
    "# converter = QubitConverter(mapper = mapping, two_qubit_reduction = True, z2symmetry_reduction = [1, 1, 1, 1])\n",
    "converter = QubitConverter(mapper = mapping, two_qubit_reduction = True, z2symmetry_reduction = [1, 1])\n",
    "\n",
    "# Possible Z2Symmetries \n",
    "\n",
    "# [1, 1, 1, 1], [1, 1, 1, -1], [1, 1, -1, 1], \n",
    "# [1, 1, -1, -1], [1, -1, 1, 1], [1, -1, 1, -1], \n",
    "# [1, -1, -1, 1], [1, -1, -1, -1], [-1, 1, 1, 1], [-1, 1, 1, -1], \n",
    "# [-1, 1, -1, 1], [-1, 1, -1, -1], [-1, -1, 1, 1], [-1, -1, 1, -1], \n",
    "# [-1, -1, -1, 1], [-1, -1, -1, -1]"
   ]
  },
  {
   "cell_type": "code",
   "execution_count": 11,
   "id": "ranging-chinese",
   "metadata": {},
   "outputs": [],
   "source": [
    "# print(converter.z2symmetry_reduction)\n",
    "# print(converter.two_qubit_reduction)\n",
    "# print(converter.z2symmetries)"
   ]
  },
  {
   "cell_type": "code",
   "execution_count": 12,
   "id": "electronic-wages",
   "metadata": {},
   "outputs": [
    {
     "name": "stdout",
     "output_type": "stream",
     "text": [
      "(1, 1)\n"
     ]
    }
   ],
   "source": [
    "# Mapping fermionic operators to qubit operators\n",
    "num_particles = (problem.molecule_data_transformed.num_alpha, problem.molecule_data_transformed.num_beta)\n",
    "\n",
    "print(num_particles)"
   ]
  },
  {
   "cell_type": "code",
   "execution_count": 13,
   "id": "acute-finnish",
   "metadata": {},
   "outputs": [],
   "source": [
    "qubit_operator = converter.convert(main_operator, num_particles = num_particles)\n",
    "# print(qubit_operator)"
   ]
  },
  {
   "cell_type": "markdown",
   "id": "sealed-dollar",
   "metadata": {},
   "source": [
    "## Z2Symmetries and Remove Orbitals"
   ]
  },
  {
   "cell_type": "code",
   "execution_count": 65,
   "id": "directed-narrative",
   "metadata": {},
   "outputs": [
    {
     "name": "stdout",
     "output_type": "stream",
     "text": [
      "Z2 symmetries:\n",
      "Symmetries:\n",
      "IIIIZIII\n",
      "IIZZIIZZ\n",
      "IZIIIZII\n",
      "ZIIIIIII\n",
      "Single-Qubit Pauli X:\n",
      "IIIIXIII\n",
      "IIIIIIIX\n",
      "IIIIIXII\n",
      "XIIIIIII\n",
      "Cliffords:\n",
      "0.7071067811865475 * IIIIZIII\n",
      "+ 0.7071067811865475 * IIIIXIII\n",
      "0.7071067811865475 * IIZZIIZZ\n",
      "+ 0.7071067811865475 * IIIIIIIX\n",
      "0.7071067811865475 * IZIIIZII\n",
      "+ 0.7071067811865475 * IIIIIXII\n",
      "0.7071067811865475 * ZIIIIIII\n",
      "+ 0.7071067811865475 * XIIIIIII\n",
      "Qubit index:\n",
      "[3, 0, 2, 7]\n",
      "Tapering values:\n",
      "  - Possible values: [1, 1, 1, 1], [1, 1, 1, -1], [1, 1, -1, 1], [1, 1, -1, -1], [1, -1, 1, 1], [1, -1, 1, -1], [1, -1, -1, 1], [1, -1, -1, -1], [-1, 1, 1, 1], [-1, 1, 1, -1], [-1, 1, -1, 1], [-1, 1, -1, -1], [-1, -1, 1, 1], [-1, -1, 1, -1], [-1, -1, -1, 1], [-1, -1, -1, -1]\n"
     ]
    }
   ],
   "source": [
    "from qiskit.opflow.primitive_ops import Z2Symmetries\n",
    "\n",
    "sym = Z2Symmetries.find_Z2_symmetries(qubit_operator)\n",
    "print(sym)"
   ]
  },
  {
   "cell_type": "code",
   "execution_count": 100,
   "id": "serial-amplifier",
   "metadata": {},
   "outputs": [],
   "source": [
    "# remove_ob = FreezeCoreTransformer.transform(True, molecule_data = qubit_operator)\n",
    "# print(remove_ob)"
   ]
  },
  {
   "cell_type": "code",
   "execution_count": 6,
   "id": "aging-headline",
   "metadata": {},
   "outputs": [],
   "source": [
    "# from qiskit.opflow.primitive_ops import Z2Symmetries\n",
    "\n",
    "# # sym = Z2Symmetries.find_Z2_symmetries(qubit_operator)\n",
    "# sym = Z2Symmetries.symmetries\n",
    "# print(sym)"
   ]
  },
  {
   "cell_type": "markdown",
   "id": "straight-adelaide",
   "metadata": {},
   "source": [
    "## Initial State (Hartree Fock)"
   ]
  },
  {
   "cell_type": "code",
   "execution_count": 14,
   "id": "administrative-cowboy",
   "metadata": {},
   "outputs": [
    {
     "name": "stdout",
     "output_type": "stream",
     "text": [
      "10\n",
      "     ┌───┐\n",
      "q_0: ┤ X ├\n",
      "     ├───┤\n",
      "q_1: ┤ X ├\n",
      "     └───┘\n",
      "q_2: ─────\n",
      "          \n",
      "q_3: ─────\n",
      "          \n",
      "q_4: ─────\n",
      "          \n",
      "q_5: ─────\n",
      "          \n"
     ]
    }
   ],
   "source": [
    "from qiskit_nature.circuit.library import HartreeFock\n",
    "\n",
    "num_particles = (problem.molecule_data_transformed.num_alpha, problem.molecule_data_transformed.num_beta)\n",
    "\n",
    "num_spin_orbitals = 2 * problem.molecule_data_transformed.num_molecular_orbitals\n",
    "print(num_spin_orbitals)\n",
    "\n",
    "initial_state = HartreeFock(num_spin_orbitals, num_particles, converter)\n",
    "print(initial_state)"
   ]
  },
  {
   "cell_type": "markdown",
   "id": "insured-observer",
   "metadata": {},
   "source": [
    "## Ansatz"
   ]
  },
  {
   "cell_type": "code",
   "execution_count": 15,
   "id": "distinct-perry",
   "metadata": {},
   "outputs": [],
   "source": [
    "from qiskit.circuit.library import TwoLocal\n",
    "from qiskit_nature.circuit.library import UCCSD, PUCCD, SUCCD\n",
    "\n",
    "# Available Ansatz\n",
    "\n",
    "# ansatz = \"TwoLocal\"\n",
    "ansatz = \"UCCSD\"\n",
    "  \n",
    "if ansatz == \"UCCSD\":\n",
    "    ansatz = UCCSD(qubit_converter = converter, \n",
    "                   num_particles = num_particles, \n",
    "                   num_spin_orbitals = num_spin_orbitals, \n",
    "                   initial_state = initial_state)\n",
    "elif ansatz == \"PUCCD\":\n",
    "    ansatz = PUCCD(qubit_converter = converter, \n",
    "                   num_particles = num_particles, \n",
    "                   num_spin_orbitals = num_spin_orbitals, \n",
    "                   initial_state = initial_state)\n",
    "elif ansatz == \"SUCCD\":\n",
    "    ansatz = SUCCD(qubit_converter = converter, \n",
    "                   num_particles = num_particles, \n",
    "                   num_spin_orbitals = num_spin_orbitals, \n",
    "                   initial_state = initial_state)\n",
    "\n",
    "elif ansatz == \"TwoLocal\":\n",
    "    # Ansatz Parameters\n",
    "    # Single qubit rotations\n",
    "    rotation_blocks = ['ry', 'rz']\n",
    "    \n",
    "    # Entanglement gates\n",
    "    entanglement_blocks = 'cx'\n",
    "    \n",
    "    # Type of entanglement\n",
    "    entanglement = \"full\"    # or \"linear\"\n",
    "    \n",
    "    # Repitition of ansatz\n",
    "    repititions = 6    # arbitrary number\n",
    "    \n",
    "    # Skip final rotation layer\n",
    "    skip_final_rotation_layer = True\n",
    "    \n",
    "    # Ansatz\n",
    "    ansatz = TwoLocal(num_qubits = qubit_operator.num_qubits, \n",
    "                      rotation_blocks = rotation_blocks, \n",
    "                      entanglement_blocks = entanglement_blocks, \n",
    "                      entanglement = entanglement, \n",
    "                      reps = repititions, \n",
    "                      skip_final_rotation_layer = skip_final_rotation_layer)\n",
    "    \n",
    "    ansatz.compose(initial_state, front = True, inplace = True)\n",
    "\n",
    "# elif ansatz == \"Custom\":\n",
    "#     # Add custom ansatz"
   ]
  },
  {
   "cell_type": "markdown",
   "id": "quarterly-salad",
   "metadata": {},
   "source": [
    "## Backend"
   ]
  },
  {
   "cell_type": "code",
   "execution_count": 16,
   "id": "related-brunswick",
   "metadata": {},
   "outputs": [],
   "source": [
    "from qiskit import Aer\n",
    "backend = Aer.get_backend('statevector_simulator')"
   ]
  },
  {
   "cell_type": "markdown",
   "id": "loved-thread",
   "metadata": {},
   "source": [
    "## Optimizer"
   ]
  },
  {
   "cell_type": "code",
   "execution_count": 17,
   "id": "iraqi-constraint",
   "metadata": {},
   "outputs": [],
   "source": [
    "from qiskit.algorithms.optimizers import COBYLA, L_BFGS_B, SPSA, SLSQP\n",
    "\n",
    "optimizer = \"COBYLA\"\n",
    "\n",
    "if optimizer == \"COBYLA\":\n",
    "    optimizer = COBYLA(maxiter = 500)\n",
    "elif optimizer == \"L_BFGS_B\":\n",
    "    optimizer = L_BFGS_B(maxiter = 500)\n",
    "elif optimizer == \"SPSA\":\n",
    "    optimizer = SPSA(maxiter = 500)\n",
    "elif optimizer == \"SLSQP\":\n",
    "    optimizer = SLSQP(maxiter = 500)"
   ]
  },
  {
   "cell_type": "markdown",
   "id": "harmful-enhancement",
   "metadata": {},
   "source": [
    "## VQE and Inital Parameters of Ansatz"
   ]
  },
  {
   "cell_type": "code",
   "execution_count": 18,
   "id": "interpreted-center",
   "metadata": {},
   "outputs": [
    {
     "name": "stdout",
     "output_type": "stream",
     "text": [
      "{   'aux_operator_eigenvalues': None,\n",
      "    'cost_function_evals': 61,\n",
      "    'eigenstate': array([ 3.54535463e-17-5.92271642e-18j,  3.95059244e-17+1.23125663e-16j,\n",
      "        4.79814338e-16-4.03377094e-17j,  9.92852929e-01-5.31670101e-16j,\n",
      "        3.63531253e-17+1.19052598e-18j, -5.60393291e-18+2.49047340e-18j,\n",
      "       -1.00178753e-02+7.01649221e-17j, -1.93728743e-16-2.15064436e-16j,\n",
      "       -4.42274364e-17+2.14841622e-17j, -2.23559047e-17+3.50090602e-17j,\n",
      "       -8.15569095e-17+5.50858311e-17j, -2.28313243e-16-4.65338287e-17j,\n",
      "       -3.19682615e-17+3.67268245e-17j,  3.22288095e-18+1.01096142e-17j,\n",
      "       -2.99985159e-02+3.11661780e-17j,  4.11402314e-17+8.99610572e-17j,\n",
      "       -1.38871220e-17+1.53148798e-17j,  1.94817207e-17-2.82136940e-17j,\n",
      "        2.99080220e-17-2.98856808e-17j,  1.13061985e-16+9.57060180e-17j,\n",
      "       -1.64925592e-17-8.12941988e-18j, -2.57232206e-17+2.26810714e-17j,\n",
      "       -1.41048771e-17+5.98058369e-17j, -7.63628788e-18-4.29843763e-17j,\n",
      "        9.35114006e-18+2.48813917e-17j, -2.04679847e-17+8.53647282e-18j,\n",
      "       -4.27195785e-17+5.27873477e-17j,  2.43882596e-17-1.52851542e-17j,\n",
      "       -3.15083295e-17-3.77582474e-17j,  3.71601296e-18+5.57152253e-17j,\n",
      "       -2.99010135e-02-9.47629662e-18j, -3.87591795e-17-5.79833824e-18j,\n",
      "       -2.44094117e-17-1.59694473e-17j,  2.46826056e-17+1.52127488e-17j,\n",
      "       -4.24135509e-17+3.30576842e-18j,  3.15850813e-17-2.08687087e-16j,\n",
      "       -2.03235497e-18+5.73116815e-18j, -1.36481810e-17-2.85974046e-17j,\n",
      "       -4.44213789e-18-2.40454563e-17j, -7.47142021e-18+1.33846558e-17j,\n",
      "       -2.15563797e-18+7.24734199e-18j,  5.16696649e-18-1.18454328e-17j,\n",
      "        2.80893159e-17+9.47605207e-19j,  1.83187299e-17+3.36731597e-18j,\n",
      "       -1.90121859e-17+3.45597837e-17j, -1.45027764e-17+8.97124887e-18j,\n",
      "       -1.03000395e-17+1.49382022e-17j,  2.46698392e-17+1.67519718e-17j,\n",
      "       -3.58339300e-17-2.68411808e-18j, -5.29749003e-17+8.97124887e-18j,\n",
      "        6.97500266e-18+1.56529068e-17j,  1.79414026e-17+4.76210391e-18j,\n",
      "        9.16084282e-18-1.41289863e-17j,  5.79833824e-18-3.14715886e-17j,\n",
      "        1.01978836e-17-2.16983586e-17j,  2.34612589e-17+1.67519718e-17j,\n",
      "       -3.40294342e-17-2.17573317e-19j,  2.75387352e-17+1.87843267e-17j,\n",
      "       -2.39268557e-17+4.37984822e-18j, -2.11748595e-17+4.73817313e-17j,\n",
      "       -1.11124808e-01+2.08636678e-17j, -1.51591191e-18+3.14715886e-17j,\n",
      "        1.15064790e-17+1.03743204e-17j,  2.31763937e-17-3.06297596e-17j]),\n",
      "    'eigenvalue': -1.0857341032087855,\n",
      "    'optimal_parameters': {   ParameterVectorElement(t[2]): -0.029920443320055994,\n",
      "                              ParameterVectorElement(t[3]): -0.11146085782758716,\n",
      "                              ParameterVectorElement(t[1]): -0.030004523173865764,\n",
      "                              ParameterVectorElement(t[0]): -0.010018042886792023},\n",
      "    'optimal_point': array([-0.01001804, -0.03000452, -0.02992044, -0.11146086]),\n",
      "    'optimal_value': -1.0857341032087855,\n",
      "    'optimizer_evals': 61,\n",
      "    'optimizer_time': 1.6989565460003178}\n"
     ]
    }
   ],
   "source": [
    "from qiskit.algorithms import VQE\n",
    "from IPython.display import display, clear_output\n",
    "\n",
    "# Initial Parameters of Ansatz\n",
    "try:\n",
    "    initial_point = [0.01] * len(ansatz.ordered_parameters)\n",
    "except:\n",
    "    initial_point = [0.01] * ansatz.num_parameters\n",
    "    \n",
    "algorithm = VQE(ansatz = ansatz, \n",
    "                optimizer = optimizer, \n",
    "                initial_point = initial_point, \n",
    "                quantum_instance = backend)\n",
    "#                 callback = callback)\n",
    "\n",
    "result = algorithm.compute_minimum_eigenvalue(qubit_operator)\n",
    "print(result)"
   ]
  },
  {
   "cell_type": "code",
   "execution_count": null,
   "id": "postal-bowling",
   "metadata": {},
   "outputs": [],
   "source": [
    "# from qiskit.algorithms import VQE\n",
    "# from qiskit.chemistry.algorithms import VQEAdapt\n",
    "# from IPython.display import display, clear_output\n",
    "\n",
    "# # Initial Parameters of Ansatz\n",
    "# try:\n",
    "#     initial_point = [0.01] * len(ansatz.ordered_parameters)\n",
    "# except:\n",
    "#     initial_point = [0.01] * ansatz.num_parameters\n",
    "    \n",
    "# # algorithm = VQE(ansatz = ansatz, \n",
    "# #                 optimizer = optimizer, \n",
    "# #                 initial_point = initial_point, \n",
    "# #                 quantum_instance = backend)\n",
    "# # #                 callback = callback)\n",
    "\n",
    "# algorithm = VQEAdapt(qubit_operator, \n",
    "#                      var_form_base = ansatz, \n",
    "#                      optimizer = optimizer, \n",
    "#                      initial_point = initial_point, \n",
    "#                      quantum_instance = backend)\n",
    "# #                 callback = callback)\n",
    "\n",
    "# result = algorithm.compute_minimum_eigenvalue(qubit_operator)\n",
    "# print(result)"
   ]
  },
  {
   "cell_type": "markdown",
   "id": "therapeutic-mining",
   "metadata": {},
   "source": [
    "## Exact Energy"
   ]
  },
  {
   "cell_type": "code",
   "execution_count": 19,
   "id": "prescription-content",
   "metadata": {},
   "outputs": [
    {
     "name": "stdout",
     "output_type": "stream",
     "text": [
      "Exact electronic energy -1.0897823963487436\n"
     ]
    }
   ],
   "source": [
    "from qiskit_nature.algorithms.ground_state_solvers.minimum_eigensolver_factories import NumPyMinimumEigensolverFactory\n",
    "from qiskit_nature.algorithms.ground_state_solvers import GroundStateEigensolver\n",
    "import numpy as np \n",
    "\n",
    "def exact_diagonalizer(problem, converter):\n",
    "    solver = NumPyMinimumEigensolverFactory()\n",
    "    calc = GroundStateEigensolver(converter, solver)\n",
    "    result = calc.solve(problem)\n",
    "    return result\n",
    "\n",
    "result_exact = exact_diagonalizer(problem, converter)\n",
    "exact_energy = np.real(result_exact.eigenenergies[0])\n",
    "print(\"Exact electronic energy\", exact_energy)\n",
    "# print(result_exact)"
   ]
  },
  {
   "cell_type": "code",
   "execution_count": null,
   "id": "fantastic-turner",
   "metadata": {},
   "outputs": [],
   "source": []
  }
 ],
 "metadata": {
  "kernelspec": {
   "display_name": "Python 3",
   "language": "python",
   "name": "python3"
  },
  "language_info": {
   "codemirror_mode": {
    "name": "ipython",
    "version": 3
   },
   "file_extension": ".py",
   "mimetype": "text/x-python",
   "name": "python",
   "nbconvert_exporter": "python",
   "pygments_lexer": "ipython3",
   "version": "3.9.1"
  }
 },
 "nbformat": 4,
 "nbformat_minor": 5
}
